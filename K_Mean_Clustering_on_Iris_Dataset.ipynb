{
  "nbformat": 4,
  "nbformat_minor": 0,
  "metadata": {
    "colab": {
      "provenance": []
    },
    "kernelspec": {
      "name": "python3",
      "display_name": "Python 3"
    },
    "language_info": {
      "name": "python"
    }
  },
  "cells": [
    {
      "cell_type": "code",
      "source": [
        "from sklearn.datasets import load_iris\n",
        "from sklearn.cluster import KMeans\n",
        "import numpy as np\n",
        "import matplotlib.pyplot as plt"
      ],
      "metadata": {
        "id": "eoWykM5TAtyz"
      },
      "execution_count": 19,
      "outputs": []
    },
    {
      "cell_type": "code",
      "source": [
        "# Load the Iris dataset\n",
        "iris = load_iris()\n",
        "X = iris.data  # Features\n",
        "y = iris.target  # Target\n"
      ],
      "metadata": {
        "id": "sqUxrqoAAtvV"
      },
      "execution_count": 20,
      "outputs": []
    },
    {
      "cell_type": "code",
      "source": [
        "# Apply K-means clustering\n",
        "k = 3  # Number of clusters\n",
        "kmeans = KMeans(n_clusters=10, random_state=42)\n",
        "kmeans.fit(X)\n",
        "\n",
        "# Get the cluster labels and cluster centers\n",
        "labels = kmeans.labels_\n",
        "centers = kmeans.cluster_centers_\n"
      ],
      "metadata": {
        "colab": {
          "base_uri": "https://localhost:8080/"
        },
        "id": "8E9x_de5AtjH",
        "outputId": "91ad3607-8cec-49b0-f1fa-0b89f086d98f"
      },
      "execution_count": 21,
      "outputs": [
        {
          "output_type": "stream",
          "name": "stderr",
          "text": [
            "/usr/local/lib/python3.10/dist-packages/sklearn/cluster/_kmeans.py:870: FutureWarning: The default value of `n_init` will change from 10 to 'auto' in 1.4. Set the value of `n_init` explicitly to suppress the warning\n",
            "  warnings.warn(\n"
          ]
        }
      ]
    },
    {
      "cell_type": "code",
      "source": [
        "# Print the cluster labels for each data point\n",
        "for i in range(len(X)):\n",
        "    print(\"Data point:\", X[i], \"Cluster label:\", labels[i])"
      ],
      "metadata": {
        "colab": {
          "base_uri": "https://localhost:8080/"
        },
        "id": "wWyAbmmnBx59",
        "outputId": "673419a2-af4a-4bd2-f6b5-137c4ac2e8bd"
      },
      "execution_count": 15,
      "outputs": [
        {
          "output_type": "stream",
          "name": "stdout",
          "text": [
            "Data point: [5.1 3.5 1.4 0.2] Cluster label: 1\n",
            "Data point: [4.9 3.  1.4 0.2] Cluster label: 1\n",
            "Data point: [4.7 3.2 1.3 0.2] Cluster label: 1\n",
            "Data point: [4.6 3.1 1.5 0.2] Cluster label: 1\n",
            "Data point: [5.  3.6 1.4 0.2] Cluster label: 1\n",
            "Data point: [5.4 3.9 1.7 0.4] Cluster label: 1\n",
            "Data point: [4.6 3.4 1.4 0.3] Cluster label: 1\n",
            "Data point: [5.  3.4 1.5 0.2] Cluster label: 1\n",
            "Data point: [4.4 2.9 1.4 0.2] Cluster label: 1\n",
            "Data point: [4.9 3.1 1.5 0.1] Cluster label: 1\n",
            "Data point: [5.4 3.7 1.5 0.2] Cluster label: 1\n",
            "Data point: [4.8 3.4 1.6 0.2] Cluster label: 1\n",
            "Data point: [4.8 3.  1.4 0.1] Cluster label: 1\n",
            "Data point: [4.3 3.  1.1 0.1] Cluster label: 1\n",
            "Data point: [5.8 4.  1.2 0.2] Cluster label: 1\n",
            "Data point: [5.7 4.4 1.5 0.4] Cluster label: 1\n",
            "Data point: [5.4 3.9 1.3 0.4] Cluster label: 1\n",
            "Data point: [5.1 3.5 1.4 0.3] Cluster label: 1\n",
            "Data point: [5.7 3.8 1.7 0.3] Cluster label: 1\n",
            "Data point: [5.1 3.8 1.5 0.3] Cluster label: 1\n",
            "Data point: [5.4 3.4 1.7 0.2] Cluster label: 1\n",
            "Data point: [5.1 3.7 1.5 0.4] Cluster label: 1\n",
            "Data point: [4.6 3.6 1.  0.2] Cluster label: 1\n",
            "Data point: [5.1 3.3 1.7 0.5] Cluster label: 1\n",
            "Data point: [4.8 3.4 1.9 0.2] Cluster label: 1\n",
            "Data point: [5.  3.  1.6 0.2] Cluster label: 1\n",
            "Data point: [5.  3.4 1.6 0.4] Cluster label: 1\n",
            "Data point: [5.2 3.5 1.5 0.2] Cluster label: 1\n",
            "Data point: [5.2 3.4 1.4 0.2] Cluster label: 1\n",
            "Data point: [4.7 3.2 1.6 0.2] Cluster label: 1\n",
            "Data point: [4.8 3.1 1.6 0.2] Cluster label: 1\n",
            "Data point: [5.4 3.4 1.5 0.4] Cluster label: 1\n",
            "Data point: [5.2 4.1 1.5 0.1] Cluster label: 1\n",
            "Data point: [5.5 4.2 1.4 0.2] Cluster label: 1\n",
            "Data point: [4.9 3.1 1.5 0.2] Cluster label: 1\n",
            "Data point: [5.  3.2 1.2 0.2] Cluster label: 1\n",
            "Data point: [5.5 3.5 1.3 0.2] Cluster label: 1\n",
            "Data point: [4.9 3.6 1.4 0.1] Cluster label: 1\n",
            "Data point: [4.4 3.  1.3 0.2] Cluster label: 1\n",
            "Data point: [5.1 3.4 1.5 0.2] Cluster label: 1\n",
            "Data point: [5.  3.5 1.3 0.3] Cluster label: 1\n",
            "Data point: [4.5 2.3 1.3 0.3] Cluster label: 1\n",
            "Data point: [4.4 3.2 1.3 0.2] Cluster label: 1\n",
            "Data point: [5.  3.5 1.6 0.6] Cluster label: 1\n",
            "Data point: [5.1 3.8 1.9 0.4] Cluster label: 1\n",
            "Data point: [4.8 3.  1.4 0.3] Cluster label: 1\n",
            "Data point: [5.1 3.8 1.6 0.2] Cluster label: 1\n",
            "Data point: [4.6 3.2 1.4 0.2] Cluster label: 1\n",
            "Data point: [5.3 3.7 1.5 0.2] Cluster label: 1\n",
            "Data point: [5.  3.3 1.4 0.2] Cluster label: 1\n",
            "Data point: [7.  3.2 4.7 1.4] Cluster label: 0\n",
            "Data point: [6.4 3.2 4.5 1.5] Cluster label: 0\n",
            "Data point: [6.9 3.1 4.9 1.5] Cluster label: 2\n",
            "Data point: [5.5 2.3 4.  1.3] Cluster label: 0\n",
            "Data point: [6.5 2.8 4.6 1.5] Cluster label: 0\n",
            "Data point: [5.7 2.8 4.5 1.3] Cluster label: 0\n",
            "Data point: [6.3 3.3 4.7 1.6] Cluster label: 0\n",
            "Data point: [4.9 2.4 3.3 1. ] Cluster label: 0\n",
            "Data point: [6.6 2.9 4.6 1.3] Cluster label: 0\n",
            "Data point: [5.2 2.7 3.9 1.4] Cluster label: 0\n",
            "Data point: [5.  2.  3.5 1. ] Cluster label: 0\n",
            "Data point: [5.9 3.  4.2 1.5] Cluster label: 0\n",
            "Data point: [6.  2.2 4.  1. ] Cluster label: 0\n",
            "Data point: [6.1 2.9 4.7 1.4] Cluster label: 0\n",
            "Data point: [5.6 2.9 3.6 1.3] Cluster label: 0\n",
            "Data point: [6.7 3.1 4.4 1.4] Cluster label: 0\n",
            "Data point: [5.6 3.  4.5 1.5] Cluster label: 0\n",
            "Data point: [5.8 2.7 4.1 1. ] Cluster label: 0\n",
            "Data point: [6.2 2.2 4.5 1.5] Cluster label: 0\n",
            "Data point: [5.6 2.5 3.9 1.1] Cluster label: 0\n",
            "Data point: [5.9 3.2 4.8 1.8] Cluster label: 0\n",
            "Data point: [6.1 2.8 4.  1.3] Cluster label: 0\n",
            "Data point: [6.3 2.5 4.9 1.5] Cluster label: 0\n",
            "Data point: [6.1 2.8 4.7 1.2] Cluster label: 0\n",
            "Data point: [6.4 2.9 4.3 1.3] Cluster label: 0\n",
            "Data point: [6.6 3.  4.4 1.4] Cluster label: 0\n",
            "Data point: [6.8 2.8 4.8 1.4] Cluster label: 0\n",
            "Data point: [6.7 3.  5.  1.7] Cluster label: 2\n",
            "Data point: [6.  2.9 4.5 1.5] Cluster label: 0\n",
            "Data point: [5.7 2.6 3.5 1. ] Cluster label: 0\n",
            "Data point: [5.5 2.4 3.8 1.1] Cluster label: 0\n",
            "Data point: [5.5 2.4 3.7 1. ] Cluster label: 0\n",
            "Data point: [5.8 2.7 3.9 1.2] Cluster label: 0\n",
            "Data point: [6.  2.7 5.1 1.6] Cluster label: 0\n",
            "Data point: [5.4 3.  4.5 1.5] Cluster label: 0\n",
            "Data point: [6.  3.4 4.5 1.6] Cluster label: 0\n",
            "Data point: [6.7 3.1 4.7 1.5] Cluster label: 0\n",
            "Data point: [6.3 2.3 4.4 1.3] Cluster label: 0\n",
            "Data point: [5.6 3.  4.1 1.3] Cluster label: 0\n",
            "Data point: [5.5 2.5 4.  1.3] Cluster label: 0\n",
            "Data point: [5.5 2.6 4.4 1.2] Cluster label: 0\n",
            "Data point: [6.1 3.  4.6 1.4] Cluster label: 0\n",
            "Data point: [5.8 2.6 4.  1.2] Cluster label: 0\n",
            "Data point: [5.  2.3 3.3 1. ] Cluster label: 0\n",
            "Data point: [5.6 2.7 4.2 1.3] Cluster label: 0\n",
            "Data point: [5.7 3.  4.2 1.2] Cluster label: 0\n",
            "Data point: [5.7 2.9 4.2 1.3] Cluster label: 0\n",
            "Data point: [6.2 2.9 4.3 1.3] Cluster label: 0\n",
            "Data point: [5.1 2.5 3.  1.1] Cluster label: 0\n",
            "Data point: [5.7 2.8 4.1 1.3] Cluster label: 0\n",
            "Data point: [6.3 3.3 6.  2.5] Cluster label: 2\n",
            "Data point: [5.8 2.7 5.1 1.9] Cluster label: 0\n",
            "Data point: [7.1 3.  5.9 2.1] Cluster label: 2\n",
            "Data point: [6.3 2.9 5.6 1.8] Cluster label: 2\n",
            "Data point: [6.5 3.  5.8 2.2] Cluster label: 2\n",
            "Data point: [7.6 3.  6.6 2.1] Cluster label: 2\n",
            "Data point: [4.9 2.5 4.5 1.7] Cluster label: 0\n",
            "Data point: [7.3 2.9 6.3 1.8] Cluster label: 2\n",
            "Data point: [6.7 2.5 5.8 1.8] Cluster label: 2\n",
            "Data point: [7.2 3.6 6.1 2.5] Cluster label: 2\n",
            "Data point: [6.5 3.2 5.1 2. ] Cluster label: 2\n",
            "Data point: [6.4 2.7 5.3 1.9] Cluster label: 2\n",
            "Data point: [6.8 3.  5.5 2.1] Cluster label: 2\n",
            "Data point: [5.7 2.5 5.  2. ] Cluster label: 0\n",
            "Data point: [5.8 2.8 5.1 2.4] Cluster label: 0\n",
            "Data point: [6.4 3.2 5.3 2.3] Cluster label: 2\n",
            "Data point: [6.5 3.  5.5 1.8] Cluster label: 2\n",
            "Data point: [7.7 3.8 6.7 2.2] Cluster label: 2\n",
            "Data point: [7.7 2.6 6.9 2.3] Cluster label: 2\n",
            "Data point: [6.  2.2 5.  1.5] Cluster label: 0\n",
            "Data point: [6.9 3.2 5.7 2.3] Cluster label: 2\n",
            "Data point: [5.6 2.8 4.9 2. ] Cluster label: 0\n",
            "Data point: [7.7 2.8 6.7 2. ] Cluster label: 2\n",
            "Data point: [6.3 2.7 4.9 1.8] Cluster label: 0\n",
            "Data point: [6.7 3.3 5.7 2.1] Cluster label: 2\n",
            "Data point: [7.2 3.2 6.  1.8] Cluster label: 2\n",
            "Data point: [6.2 2.8 4.8 1.8] Cluster label: 0\n",
            "Data point: [6.1 3.  4.9 1.8] Cluster label: 0\n",
            "Data point: [6.4 2.8 5.6 2.1] Cluster label: 2\n",
            "Data point: [7.2 3.  5.8 1.6] Cluster label: 2\n",
            "Data point: [7.4 2.8 6.1 1.9] Cluster label: 2\n",
            "Data point: [7.9 3.8 6.4 2. ] Cluster label: 2\n",
            "Data point: [6.4 2.8 5.6 2.2] Cluster label: 2\n",
            "Data point: [6.3 2.8 5.1 1.5] Cluster label: 0\n",
            "Data point: [6.1 2.6 5.6 1.4] Cluster label: 2\n",
            "Data point: [7.7 3.  6.1 2.3] Cluster label: 2\n",
            "Data point: [6.3 3.4 5.6 2.4] Cluster label: 2\n",
            "Data point: [6.4 3.1 5.5 1.8] Cluster label: 2\n",
            "Data point: [6.  3.  4.8 1.8] Cluster label: 0\n",
            "Data point: [6.9 3.1 5.4 2.1] Cluster label: 2\n",
            "Data point: [6.7 3.1 5.6 2.4] Cluster label: 2\n",
            "Data point: [6.9 3.1 5.1 2.3] Cluster label: 2\n",
            "Data point: [5.8 2.7 5.1 1.9] Cluster label: 0\n",
            "Data point: [6.8 3.2 5.9 2.3] Cluster label: 2\n",
            "Data point: [6.7 3.3 5.7 2.5] Cluster label: 2\n",
            "Data point: [6.7 3.  5.2 2.3] Cluster label: 2\n",
            "Data point: [6.3 2.5 5.  1.9] Cluster label: 0\n",
            "Data point: [6.5 3.  5.2 2. ] Cluster label: 2\n",
            "Data point: [6.2 3.4 5.4 2.3] Cluster label: 2\n",
            "Data point: [5.9 3.  5.1 1.8] Cluster label: 0\n"
          ]
        }
      ]
    },
    {
      "cell_type": "code",
      "source": [
        "# Analyze the clusters\n",
        "cluster_indices = []\n",
        "for cluster_label in range(k):\n",
        "    indices = np.where(labels == cluster_label)[0]\n",
        "    cluster_indices.append(indices)\n",
        "\n",
        "# Print the indices of data points in each cluster\n",
        "for cluster_label, indices in enumerate(cluster_indices):\n",
        "    print(\"Cluster\", cluster_label)\n",
        "    print(\"Data points:\", indices)\n",
        "\n",
        "# Print the cluster centers\n",
        "print(\"Cluster Centers:\")\n",
        "for cluster_label, center in enumerate(centers):\n",
        "    print(\"Cluster\", cluster_label, \"Center:\", center)\n"
      ],
      "metadata": {
        "colab": {
          "base_uri": "https://localhost:8080/"
        },
        "id": "-75N5AQ9BMDt",
        "outputId": "7a1683e4-e4ef-49ff-c26e-b0c65a206bbd"
      },
      "execution_count": 16,
      "outputs": [
        {
          "output_type": "stream",
          "name": "stdout",
          "text": [
            "Cluster 0\n",
            "Data points: [ 50  51  53  54  55  56  57  58  59  60  61  62  63  64  65  66  67  68\n",
            "  69  70  71  72  73  74  75  76  78  79  80  81  82  83  84  85  86  87\n",
            "  88  89  90  91  92  93  94  95  96  97  98  99 101 106 113 114 119 121\n",
            " 123 126 127 133 138 142 146 149]\n",
            "Cluster 1\n",
            "Data points: [ 0  1  2  3  4  5  6  7  8  9 10 11 12 13 14 15 16 17 18 19 20 21 22 23\n",
            " 24 25 26 27 28 29 30 31 32 33 34 35 36 37 38 39 40 41 42 43 44 45 46 47\n",
            " 48 49]\n",
            "Cluster 2\n",
            "Data points: [ 52  77 100 102 103 104 105 107 108 109 110 111 112 115 116 117 118 120\n",
            " 122 124 125 128 129 130 131 132 134 135 136 137 139 140 141 143 144 145\n",
            " 147 148]\n",
            "Cluster Centers:\n",
            "Cluster 0 Center: [5.9016129  2.7483871  4.39354839 1.43387097]\n",
            "Cluster 1 Center: [5.006 3.428 1.462 0.246]\n",
            "Cluster 2 Center: [6.85       3.07368421 5.74210526 2.07105263]\n"
          ]
        }
      ]
    },
    {
      "cell_type": "code",
      "source": [
        "# Visualize the clusters\n",
        "plt.figure(figsize=(10, 6))\n",
        "\n",
        "# Plotting the data points in each cluster\n",
        "for cluster_label, indices in enumerate(cluster_indices):\n",
        "    plt.scatter(X[indices, 0], X[indices, 1], label=f'Cluster {cluster_label}')\n",
        "\n",
        "# Plotting the cluster centers\n",
        "plt.scatter(centers[:, 0], centers[:, 1], marker='X', color='black', s=200, label='Cluster Centers')\n",
        "\n",
        "plt.xlabel('Sepal Length')\n",
        "plt.ylabel('Sepal Width')\n",
        "plt.title('K-means Clustering on Iris Dataset')\n",
        "plt.legend()\n",
        "plt.show()\n"
      ],
      "metadata": {
        "colab": {
          "base_uri": "https://localhost:8080/",
          "height": 564
        },
        "id": "Ue3GFy9n_3yp",
        "outputId": "a7cfc24d-5181-4913-f6d5-f5c8e33a6b9b"
      },
      "execution_count": 17,
      "outputs": [
        {
          "output_type": "display_data",
          "data": {
            "text/plain": [
              "<Figure size 1000x600 with 1 Axes>"
            ],
            "image/png": "[encoded data removed]"
          },
          "metadata": {}
        }
      ]
    }
  ]
}