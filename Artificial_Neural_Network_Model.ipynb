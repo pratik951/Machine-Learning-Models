{
  "cells": [
    {
      "cell_type": "markdown",
      "metadata": {
        "id": "Ky66tjYxxpLm"
      },
      "source": [
        "**Objective:** Train an ANN to perform sentiment analysis on movie reviews and classify them as positive or negative.\n",
        "\n",
        "**Task Breakdown:**\n",
        "\n",
        "\n",
        "1.   Data preparation (20 minutes)\n",
        "2.   Feature extraction (20 minutes)\n",
        "3.   ANN model creation (30 minutes)\n",
        "4.   Model training (30 minutes)\n",
        "5.   Model evaluation (10 minutes)\n",
        "6.   Wrap up and reflection (10 minutes)"
      ]
    },
    {
      "cell_type": "code",
      "execution_count": null,
      "metadata": {
        "colab": {
          "base_uri": "https://localhost:8080/"
        },
        "id": "HhrALTg6F0Bx",
        "outputId": "ac8e6880-0fc7-4aec-d9a3-ca998ae35ccc"
      },
      "outputs": [
        {
          "name": "stdout",
          "output_type": "stream",
          "text": [
            "Downloading...\n",
            "From: https://drive.google.com/uc?id=1l4Ruitn5kQNM5g5KLPCphk00ZtOKpFd6\n",
            "To: /content/IMDB Dataset.csv\n",
            "100% 66.2M/66.2M [00:00<00:00, 84.2MB/s]\n"
          ]
        }
      ],
      "source": [
        "!gdown 1l4Ruitn5kQNM5g5KLPCphk00ZtOKpFd6"
      ]
    },
    {
      "cell_type": "code",
      "execution_count": null,
      "metadata": {
        "id": "NiYeQH33xm7a"
      },
      "outputs": [],
      "source": [
        "import os\n",
        "import pandas as pd\n",
        "import numpy as np"
      ]
    },
    {
      "cell_type": "markdown",
      "metadata": {
        "id": "sBfgg1zlyrEU"
      },
      "source": [
        "**Data preparation (20 minutes):**\n",
        "\n",
        "Load the IMDb dataset.\n",
        "Perform basic preprocessing such as tokenisation, stopword removal, and stemming/lemmatisation.\n"
      ]
    },
    {
      "cell_type": "code",
      "execution_count": null,
      "metadata": {
        "colab": {
          "base_uri": "https://localhost:8080/",
          "height": 206
        },
        "id": "vDtQG4ljyt2O",
        "outputId": "27222dae-16d1-48ee-9abd-51a24ec1e3a7"
      },
      "outputs": [
        {
          "data": {
            "text/html": [
              "\n",
              "  <div id=\"df-d50370d5-e728-4509-b0cf-306a4359054e\">\n",
              "    <div class=\"colab-df-container\">\n",
              "      <div>\n",
              "<style scoped>\n",
              "    .dataframe tbody tr th:only-of-type {\n",
              "        vertical-align: middle;\n",
              "    }\n",
              "\n",
              "    .dataframe tbody tr th {\n",
              "        vertical-align: top;\n",
              "    }\n",
              "\n",
              "    .dataframe thead th {\n",
              "        text-align: right;\n",
              "    }\n",
              "</style>\n",
              "<table border=\"1\" class=\"dataframe\">\n",
              "  <thead>\n",
              "    <tr style=\"text-align: right;\">\n",
              "      <th></th>\n",
              "      <th>review</th>\n",
              "      <th>sentiment</th>\n",
              "    </tr>\n",
              "  </thead>\n",
              "  <tbody>\n",
              "    <tr>\n",
              "      <th>0</th>\n",
              "      <td>One of the other reviewers has mentioned that ...</td>\n",
              "      <td>positive</td>\n",
              "    </tr>\n",
              "    <tr>\n",
              "      <th>1</th>\n",
              "      <td>A wonderful little production. &lt;br /&gt;&lt;br /&gt;The...</td>\n",
              "      <td>positive</td>\n",
              "    </tr>\n",
              "    <tr>\n",
              "      <th>2</th>\n",
              "      <td>I thought this was a wonderful way to spend ti...</td>\n",
              "      <td>positive</td>\n",
              "    </tr>\n",
              "    <tr>\n",
              "      <th>3</th>\n",
              "      <td>Basically there's a family where a little boy ...</td>\n",
              "      <td>negative</td>\n",
              "    </tr>\n",
              "    <tr>\n",
              "      <th>4</th>\n",
              "      <td>Petter Mattei's \"Love in the Time of Money\" is...</td>\n",
              "      <td>positive</td>\n",
              "    </tr>\n",
              "  </tbody>\n",
              "</table>\n",
              "</div>\n",
              "      <button class=\"colab-df-convert\" onclick=\"convertToInteractive('df-d50370d5-e728-4509-b0cf-306a4359054e')\"\n",
              "              title=\"Convert this dataframe to an interactive table.\"\n",
              "              style=\"display:none;\">\n",
              "        \n",
              "  <svg xmlns=\"http://www.w3.org/2000/svg\" height=\"24px\"viewBox=\"0 0 24 24\"\n",
              "       width=\"24px\">\n",
              "    <path d=\"M0 0h24v24H0V0z\" fill=\"none\"/>\n",
              "    <path d=\"M18.56 5.44l.94 2.06.94-2.06 2.06-.94-2.06-.94-.94-2.06-.94 2.06-2.06.94zm-11 1L8.5 8.5l.94-2.06 2.06-.94-2.06-.94L8.5 2.5l-.94 2.06-2.06.94zm10 10l.94 2.06.94-2.06 2.06-.94-2.06-.94-.94-2.06-.94 2.06-2.06.94z\"/><path d=\"M17.41 7.96l-1.37-1.37c-.4-.4-.92-.59-1.43-.59-.52 0-1.04.2-1.43.59L10.3 9.45l-7.72 7.72c-.78.78-.78 2.05 0 2.83L4 21.41c.39.39.9.59 1.41.59.51 0 1.02-.2 1.41-.59l7.78-7.78 2.81-2.81c.8-.78.8-2.07 0-2.86zM5.41 20L4 18.59l7.72-7.72 1.47 1.35L5.41 20z\"/>\n",
              "  </svg>\n",
              "      </button>\n",
              "      \n",
              "  <style>\n",
              "    .colab-df-container {\n",
              "      display:flex;\n",
              "      flex-wrap:wrap;\n",
              "      gap: 12px;\n",
              "    }\n",
              "\n",
              "    .colab-df-convert {\n",
              "      background-color: #E8F0FE;\n",
              "      border: none;\n",
              "      border-radius: 50%;\n",
              "      cursor: pointer;\n",
              "      display: none;\n",
              "      fill: #1967D2;\n",
              "      height: 32px;\n",
              "      padding: 0 0 0 0;\n",
              "      width: 32px;\n",
              "    }\n",
              "\n",
              "    .colab-df-convert:hover {\n",
              "      background-color: #E2EBFA;\n",
              "      box-shadow: 0px 1px 2px rgba(60, 64, 67, 0.3), 0px 1px 3px 1px rgba(60, 64, 67, 0.15);\n",
              "      fill: #174EA6;\n",
              "    }\n",
              "\n",
              "    [theme=dark] .colab-df-convert {\n",
              "      background-color: #3B4455;\n",
              "      fill: #D2E3FC;\n",
              "    }\n",
              "\n",
              "    [theme=dark] .colab-df-convert:hover {\n",
              "      background-color: #434B5C;\n",
              "      box-shadow: 0px 1px 3px 1px rgba(0, 0, 0, 0.15);\n",
              "      filter: drop-shadow(0px 1px 2px rgba(0, 0, 0, 0.3));\n",
              "      fill: #FFFFFF;\n",
              "    }\n",
              "  </style>\n",
              "\n",
              "      <script>\n",
              "        const buttonEl =\n",
              "          document.querySelector('#df-d50370d5-e728-4509-b0cf-306a4359054e button.colab-df-convert');\n",
              "        buttonEl.style.display =\n",
              "          google.colab.kernel.accessAllowed ? 'block' : 'none';\n",
              "\n",
              "        async function convertToInteractive(key) {\n",
              "          const element = document.querySelector('#df-d50370d5-e728-4509-b0cf-306a4359054e');\n",
              "          const dataTable =\n",
              "            await google.colab.kernel.invokeFunction('convertToInteractive',\n",
              "                                                     [key], {});\n",
              "          if (!dataTable) return;\n",
              "\n",
              "          const docLinkHtml = 'Like what you see? Visit the ' +\n",
              "            '<a target=\"_blank\" href=https://colab.research.google.com/notebooks/data_table.ipynb>data table notebook</a>'\n",
              "            + ' to learn more about interactive tables.';\n",
              "          element.innerHTML = '';\n",
              "          dataTable['output_type'] = 'display_data';\n",
              "          await google.colab.output.renderOutput(dataTable, element);\n",
              "          const docLink = document.createElement('div');\n",
              "          docLink.innerHTML = docLinkHtml;\n",
              "          element.appendChild(docLink);\n",
              "        }\n",
              "      </script>\n",
              "    </div>\n",
              "  </div>\n",
              "  "
            ],
            "text/plain": [
              "                                              review sentiment\n",
              "0  One of the other reviewers has mentioned that ...  positive\n",
              "1  A wonderful little production. <br /><br />The...  positive\n",
              "2  I thought this was a wonderful way to spend ti...  positive\n",
              "3  Basically there's a family where a little boy ...  negative\n",
              "4  Petter Mattei's \"Love in the Time of Money\" is...  positive"
            ]
          },
          "execution_count": 3,
          "metadata": {},
          "output_type": "execute_result"
        }
      ],
      "source": [
        "import tensorflow as tf\n",
        "from tensorflow import keras\n",
        "\n",
        "# import the IMDB dataset from csv file\n",
        "imdb = pd.read_csv('/content/IMDB Dataset.csv')\n",
        "\n",
        "# check the first 5 rows of the dataset\n",
        "imdb.head()\n"
      ]
    },
    {
      "cell_type": "code",
      "execution_count": null,
      "metadata": {
        "colab": {
          "base_uri": "https://localhost:8080/"
        },
        "id": "EalRjl61nF8M",
        "outputId": "53314051-a079-4bdf-c09f-ff579188b559"
      },
      "outputs": [
        {
          "name": "stdout",
          "output_type": "stream",
          "text": [
            "One of the other reviewers has mentioned that after watching just 1 Oz episode you'll be hooked. They are right, as this is exactly what happened with me.<br /><br />The first thing that struck me about Oz was its brutality and unflinching scenes of violence, which set in right from the word GO. Trust me, this is not a show for the faint hearted or timid. This show pulls no punches with regards to drugs, sex or violence. Its is hardcore, in the classic use of the word.<br /><br />It is called OZ as that is the nickname given to the Oswald Maximum Security State Penitentary. It focuses mainly on Emerald City, an experimental section of the prison where all the cells have glass fronts and face inwards, so privacy is not high on the agenda. Em City is home to many..Aryans, Muslims, gangstas, Latinos, Christians, Italians, Irish and more....so scuffles, death stares, dodgy dealings and shady agreements are never far away.<br /><br />I would say the main appeal of the show is due to the fact that it goes where other shows wouldn't dare. Forget pretty pictures painted for mainstream audiences, forget charm, forget romance...OZ doesn't mess around. The first episode I ever saw struck me as so nasty it was surreal, I couldn't say I was ready for it, but as I watched more, I developed a taste for Oz, and got accustomed to the high levels of graphic violence. Not just violence, but injustice (crooked guards who'll be sold out for a nickel, inmates who'll kill on order and get away with it, well mannered, middle class inmates being turned into prison bitches due to their lack of street skills or prison experience) Watching Oz, you may become comfortable with what is uncomfortable viewing....thats if you can get in touch with your darker side.\n"
          ]
        }
      ],
      "source": [
        "# print the first review\n",
        "print(imdb['review'][0])"
      ]
    },
    {
      "cell_type": "code",
      "execution_count": null,
      "metadata": {
        "colab": {
          "base_uri": "https://localhost:8080/"
        },
        "id": "bKkv_nCpnF8M",
        "outputId": "d4aef1dd-4157-4369-fe64-16bb4f906d47"
      },
      "outputs": [
        {
          "name": "stdout",
          "output_type": "stream",
          "text": [
            "One of the other reviewers has mentioned that after watching just 1 Oz episode you'll be hooked. They are right, as this is exactly what happened with me.The first thing that struck me about Oz was its brutality and unflinching scenes of violence, which set in right from the word GO. Trust me, this is not a show for the faint hearted or timid. This show pulls no punches with regards to drugs, sex or violence. Its is hardcore, in the classic use of the word.It is called OZ as that is the nickname given to the Oswald Maximum Security State Penitentary. It focuses mainly on Emerald City, an experimental section of the prison where all the cells have glass fronts and face inwards, so privacy is not high on the agenda. Em City is home to many..Aryans, Muslims, gangstas, Latinos, Christians, Italians, Irish and more....so scuffles, death stares, dodgy dealings and shady agreements are never far away.I would say the main appeal of the show is due to the fact that it goes where other shows wouldn't dare. Forget pretty pictures painted for mainstream audiences, forget charm, forget romance...OZ doesn't mess around. The first episode I ever saw struck me as so nasty it was surreal, I couldn't say I was ready for it, but as I watched more, I developed a taste for Oz, and got accustomed to the high levels of graphic violence. Not just violence, but injustice (crooked guards who'll be sold out for a nickel, inmates who'll kill on order and get away with it, well mannered, middle class inmates being turned into prison bitches due to their lack of street skills or prison experience) Watching Oz, you may become comfortable with what is uncomfortable viewing....thats if you can get in touch with your darker side.\n"
          ]
        }
      ],
      "source": [
        "# remove the html tags\n",
        "import re\n",
        "def remove_tags(text):\n",
        "    TAG_RE = re.compile(r'<[^>]+>')\n",
        "    return TAG_RE.sub('', text)\n",
        "\n",
        "# remove the html tags from the reviews\n",
        "imdb['review'] = imdb['review'].apply(lambda x: remove_tags(x))\n",
        "\n",
        "# print the first review\n",
        "print(imdb['review'][0])"
      ]
    },
    {
      "cell_type": "code",
      "execution_count": null,
      "metadata": {
        "colab": {
          "base_uri": "https://localhost:8080/"
        },
        "id": "4Y6sDKtknF8N",
        "outputId": "285a09e2-caf5-4e7c-9463-f0caf5ea8524"
      },
      "outputs": [
        {
          "name": "stdout",
          "output_type": "stream",
          "text": [
            "One of the other reviewers has mentioned that after watching just 1 Oz episode youll be hooked They are right as this is exactly what happened with meThe first thing that struck me about Oz was its brutality and unflinching scenes of violence which set in right from the word GO Trust me this is not a show for the faint hearted or timid This show pulls no punches with regards to drugs sex or violence Its is hardcore in the classic use of the wordIt is called OZ as that is the nickname given to the Oswald Maximum Security State Penitentary It focuses mainly on Emerald City an experimental section of the prison where all the cells have glass fronts and face inwards so privacy is not high on the agenda Em City is home to manyAryans Muslims gangstas Latinos Christians Italians Irish and moreso scuffles death stares dodgy dealings and shady agreements are never far awayI would say the main appeal of the show is due to the fact that it goes where other shows wouldnt dare Forget pretty pictures painted for mainstream audiences forget charm forget romanceOZ doesnt mess around The first episode I ever saw struck me as so nasty it was surreal I couldnt say I was ready for it but as I watched more I developed a taste for Oz and got accustomed to the high levels of graphic violence Not just violence but injustice crooked guards wholl be sold out for a nickel inmates wholl kill on order and get away with it well mannered middle class inmates being turned into prison bitches due to their lack of street skills or prison experience Watching Oz you may become comfortable with what is uncomfortable viewingthats if you can get in touch with your darker side\n"
          ]
        }
      ],
      "source": [
        "# remove the punctuation\n",
        "import string\n",
        "def remove_punctuation(text):\n",
        "    translator = str.maketrans('', '', string.punctuation)\n",
        "    return text.translate(translator)\n",
        "\n",
        "# remove the punctuation from the reviews\n",
        "imdb['review'] = imdb['review'].apply(lambda x: remove_punctuation(x))\n",
        "\n",
        "# print the first review\n",
        "print(imdb['review'][0])"
      ]
    },
    {
      "cell_type": "code",
      "execution_count": null,
      "metadata": {
        "colab": {
          "base_uri": "https://localhost:8080/"
        },
        "id": "1F9pYOdRnF8N",
        "outputId": "c2ebddd7-7558-4dfc-9e93-a3332393e529"
      },
      "outputs": [
        {
          "name": "stdout",
          "output_type": "stream",
          "text": [
            "One of the other reviewers has mentioned that after watching just  Oz episode youll be hooked They are right as this is exactly what happened with meThe first thing that struck me about Oz was its brutality and unflinching scenes of violence which set in right from the word GO Trust me this is not a show for the faint hearted or timid This show pulls no punches with regards to drugs sex or violence Its is hardcore in the classic use of the wordIt is called OZ as that is the nickname given to the Oswald Maximum Security State Penitentary It focuses mainly on Emerald City an experimental section of the prison where all the cells have glass fronts and face inwards so privacy is not high on the agenda Em City is home to manyAryans Muslims gangstas Latinos Christians Italians Irish and moreso scuffles death stares dodgy dealings and shady agreements are never far awayI would say the main appeal of the show is due to the fact that it goes where other shows wouldnt dare Forget pretty pictures painted for mainstream audiences forget charm forget romanceOZ doesnt mess around The first episode I ever saw struck me as so nasty it was surreal I couldnt say I was ready for it but as I watched more I developed a taste for Oz and got accustomed to the high levels of graphic violence Not just violence but injustice crooked guards wholl be sold out for a nickel inmates wholl kill on order and get away with it well mannered middle class inmates being turned into prison bitches due to their lack of street skills or prison experience Watching Oz you may become comfortable with what is uncomfortable viewingthats if you can get in touch with your darker side\n"
          ]
        }
      ],
      "source": [
        "# remove the numbers\n",
        "def remove_numbers(text):\n",
        "    result = ''.join([i for i in text if not i.isdigit()])\n",
        "    return result\n",
        "\n",
        "# remove the numbers from the reviews\n",
        "imdb['review'] = imdb['review'].apply(lambda x: remove_numbers(x))\n",
        "\n",
        "# print the first review\n",
        "print(imdb['review'][0])\n"
      ]
    },
    {
      "cell_type": "code",
      "execution_count": null,
      "metadata": {
        "colab": {
          "base_uri": "https://localhost:8080/"
        },
        "id": "z_fzB-6HnF8O",
        "outputId": "9157d901-716b-4aca-f644-e93709f209b7"
      },
      "outputs": [
        {
          "name": "stdout",
          "output_type": "stream",
          "text": [
            "one of the other reviewers has mentioned that after watching just  oz episode youll be hooked they are right as this is exactly what happened with methe first thing that struck me about oz was its brutality and unflinching scenes of violence which set in right from the word go trust me this is not a show for the faint hearted or timid this show pulls no punches with regards to drugs sex or violence its is hardcore in the classic use of the wordit is called oz as that is the nickname given to the oswald maximum security state penitentary it focuses mainly on emerald city an experimental section of the prison where all the cells have glass fronts and face inwards so privacy is not high on the agenda em city is home to manyaryans muslims gangstas latinos christians italians irish and moreso scuffles death stares dodgy dealings and shady agreements are never far awayi would say the main appeal of the show is due to the fact that it goes where other shows wouldnt dare forget pretty pictures painted for mainstream audiences forget charm forget romanceoz doesnt mess around the first episode i ever saw struck me as so nasty it was surreal i couldnt say i was ready for it but as i watched more i developed a taste for oz and got accustomed to the high levels of graphic violence not just violence but injustice crooked guards wholl be sold out for a nickel inmates wholl kill on order and get away with it well mannered middle class inmates being turned into prison bitches due to their lack of street skills or prison experience watching oz you may become comfortable with what is uncomfortable viewingthats if you can get in touch with your darker side\n"
          ]
        }
      ],
      "source": [
        "# convert to lower case\n",
        "### INSERT YOUR CODE HERE ###\n",
        "imdb['review'] = imdb['review'].str.lower()\n",
        "\n",
        "\n",
        "# print the first review\n",
        "print(imdb['review'][0])"
      ]
    },
    {
      "cell_type": "code",
      "execution_count": null,
      "metadata": {
        "colab": {
          "base_uri": "https://localhost:8080/"
        },
        "id": "uB60FWc7nF8O",
        "outputId": "a557eed0-45c2-48df-c240-a499b8ac283a"
      },
      "outputs": [
        {
          "name": "stderr",
          "output_type": "stream",
          "text": [
            "[nltk_data] Downloading package punkt to /root/nltk_data...\n",
            "[nltk_data]   Package punkt is already up-to-date!\n"
          ]
        },
        {
          "name": "stdout",
          "output_type": "stream",
          "text": [
            "['one', 'of', 'the', 'other', 'reviewers', 'has', 'mentioned', 'that', 'after', 'watching', 'just', 'oz', 'episode', 'youll', 'be', 'hooked', 'they', 'are', 'right', 'as', 'this', 'is', 'exactly', 'what', 'happened', 'with', 'methe', 'first', 'thing', 'that', 'struck', 'me', 'about', 'oz', 'was', 'its', 'brutality', 'and', 'unflinching', 'scenes', 'of', 'violence', 'which', 'set', 'in', 'right', 'from', 'the', 'word', 'go', 'trust', 'me', 'this', 'is', 'not', 'a', 'show', 'for', 'the', 'faint', 'hearted', 'or', 'timid', 'this', 'show', 'pulls', 'no', 'punches', 'with', 'regards', 'to', 'drugs', 'sex', 'or', 'violence', 'its', 'is', 'hardcore', 'in', 'the', 'classic', 'use', 'of', 'the', 'wordit', 'is', 'called', 'oz', 'as', 'that', 'is', 'the', 'nickname', 'given', 'to', 'the', 'oswald', 'maximum', 'security', 'state', 'penitentary', 'it', 'focuses', 'mainly', 'on', 'emerald', 'city', 'an', 'experimental', 'section', 'of', 'the', 'prison', 'where', 'all', 'the', 'cells', 'have', 'glass', 'fronts', 'and', 'face', 'inwards', 'so', 'privacy', 'is', 'not', 'high', 'on', 'the', 'agenda', 'em', 'city', 'is', 'home', 'to', 'manyaryans', 'muslims', 'gangstas', 'latinos', 'christians', 'italians', 'irish', 'and', 'moreso', 'scuffles', 'death', 'stares', 'dodgy', 'dealings', 'and', 'shady', 'agreements', 'are', 'never', 'far', 'awayi', 'would', 'say', 'the', 'main', 'appeal', 'of', 'the', 'show', 'is', 'due', 'to', 'the', 'fact', 'that', 'it', 'goes', 'where', 'other', 'shows', 'wouldnt', 'dare', 'forget', 'pretty', 'pictures', 'painted', 'for', 'mainstream', 'audiences', 'forget', 'charm', 'forget', 'romanceoz', 'doesnt', 'mess', 'around', 'the', 'first', 'episode', 'i', 'ever', 'saw', 'struck', 'me', 'as', 'so', 'nasty', 'it', 'was', 'surreal', 'i', 'couldnt', 'say', 'i', 'was', 'ready', 'for', 'it', 'but', 'as', 'i', 'watched', 'more', 'i', 'developed', 'a', 'taste', 'for', 'oz', 'and', 'got', 'accustomed', 'to', 'the', 'high', 'levels', 'of', 'graphic', 'violence', 'not', 'just', 'violence', 'but', 'injustice', 'crooked', 'guards', 'wholl', 'be', 'sold', 'out', 'for', 'a', 'nickel', 'inmates', 'wholl', 'kill', 'on', 'order', 'and', 'get', 'away', 'with', 'it', 'well', 'mannered', 'middle', 'class', 'inmates', 'being', 'turned', 'into', 'prison', 'bitches', 'due', 'to', 'their', 'lack', 'of', 'street', 'skills', 'or', 'prison', 'experience', 'watching', 'oz', 'you', 'may', 'become', 'comfortable', 'with', 'what', 'is', 'uncomfortable', 'viewingthats', 'if', 'you', 'can', 'get', 'in', 'touch', 'with', 'your', 'darker', 'side']\n"
          ]
        }
      ],
      "source": [
        "# tokenize the reviews\n",
        "### INSERT YOUR CODE HERE ###\n",
        "import nltk\n",
        "from nltk.tokenize import word_tokenize\n",
        "nltk.download('punkt')\n",
        "\n",
        "imdb['review'] = imdb['review'].apply(lambda x: word_tokenize(x))\n",
        "\n",
        "\n",
        "\n",
        "# print the first review as tokens\n",
        "print(imdb['review'][0])"
      ]
    },
    {
      "cell_type": "code",
      "execution_count": null,
      "metadata": {
        "colab": {
          "base_uri": "https://localhost:8080/"
        },
        "id": "UVmJg-xWnF8O",
        "outputId": "4b1b54c7-b129-466d-a8c9-f2ee3aaefe2e"
      },
      "outputs": [
        {
          "name": "stderr",
          "output_type": "stream",
          "text": [
            "[nltk_data] Downloading package stopwords to /root/nltk_data...\n",
            "[nltk_data]   Package stopwords is already up-to-date!\n"
          ]
        },
        {
          "name": "stdout",
          "output_type": "stream",
          "text": [
            "['one', 'reviewers', 'mentioned', 'watching', 'oz', 'episode', 'youll', 'hooked', 'right', 'exactly', 'happened', 'methe', 'first', 'thing', 'struck', 'oz', 'brutality', 'unflinching', 'scenes', 'violence', 'set', 'right', 'word', 'go', 'trust', 'show', 'faint', 'hearted', 'timid', 'show', 'pulls', 'punches', 'regards', 'drugs', 'sex', 'violence', 'hardcore', 'classic', 'use', 'wordit', 'called', 'oz', 'nickname', 'given', 'oswald', 'maximum', 'security', 'state', 'penitentary', 'focuses', 'mainly', 'emerald', 'city', 'experimental', 'section', 'prison', 'cells', 'glass', 'fronts', 'face', 'inwards', 'privacy', 'high', 'agenda', 'em', 'city', 'home', 'manyaryans', 'muslims', 'gangstas', 'latinos', 'christians', 'italians', 'irish', 'moreso', 'scuffles', 'death', 'stares', 'dodgy', 'dealings', 'shady', 'agreements', 'never', 'far', 'awayi', 'would', 'say', 'main', 'appeal', 'show', 'due', 'fact', 'goes', 'shows', 'wouldnt', 'dare', 'forget', 'pretty', 'pictures', 'painted', 'mainstream', 'audiences', 'forget', 'charm', 'forget', 'romanceoz', 'doesnt', 'mess', 'around', 'first', 'episode', 'ever', 'saw', 'struck', 'nasty', 'surreal', 'couldnt', 'say', 'ready', 'watched', 'developed', 'taste', 'oz', 'got', 'accustomed', 'high', 'levels', 'graphic', 'violence', 'violence', 'injustice', 'crooked', 'guards', 'wholl', 'sold', 'nickel', 'inmates', 'wholl', 'kill', 'order', 'get', 'away', 'well', 'mannered', 'middle', 'class', 'inmates', 'turned', 'prison', 'bitches', 'due', 'lack', 'street', 'skills', 'prison', 'experience', 'watching', 'oz', 'may', 'become', 'comfortable', 'uncomfortable', 'viewingthats', 'get', 'touch', 'darker', 'side']\n"
          ]
        }
      ],
      "source": [
        "# remove the stopwords using nltk\n",
        "### INSERT YOUR CODE HERE ###\n",
        "import nltk\n",
        "from nltk.corpus import stopwords\n",
        "nltk.download('stopwords')\n",
        "\n",
        "stop_words = set(stopwords.words('english'))\n",
        "\n",
        "\n",
        "# remove the stopwords from the reviews\n",
        "### INSERT YOUR CODE HERE ###\n",
        "# imdb['review'] = imdb['review'].apply(lambda x: ' '.join([word for word in x.split() if word not in stop_words]))\n",
        "\n",
        "imdb['review'] = imdb['review'].apply(lambda x: [word for word in x if word not in stop_words])\n",
        "\n",
        "\n",
        "# print the first review \n",
        "print(imdb['review'][0])\n"
      ]
    },
    {
      "cell_type": "code",
      "execution_count": null,
      "metadata": {
        "colab": {
          "base_uri": "https://localhost:8080/"
        },
        "id": "UTBmQ2FbnF8P",
        "outputId": "b45d835f-65aa-4843-e4bb-c2fa19a3ed94"
      },
      "outputs": [
        {
          "name": "stderr",
          "output_type": "stream",
          "text": [
            "[nltk_data] Downloading package wordnet to /root/nltk_data...\n",
            "[nltk_data]   Package wordnet is already up-to-date!\n"
          ]
        },
        {
          "name": "stdout",
          "output_type": "stream",
          "text": [
            "one reviewer mentioned watching oz episode youll hooked right exactly happened methe first thing struck oz brutality unflinching scene violence set right word go trust show faint hearted timid show pull punch regard drug sex violence hardcore classic use wordit called oz nickname given oswald maximum security state penitentary focus mainly emerald city experimental section prison cell glass front face inwards privacy high agenda em city home manyaryans muslim gangsta latino christian italian irish moreso scuffle death stare dodgy dealing shady agreement never far awayi would say main appeal show due fact go show wouldnt dare forget pretty picture painted mainstream audience forget charm forget romanceoz doesnt mess around first episode ever saw struck nasty surreal couldnt say ready watched developed taste oz got accustomed high level graphic violence violence injustice crooked guard wholl sold nickel inmate wholl kill order get away well mannered middle class inmate turned prison bitch due lack street skill prison experience watching oz may become comfortable uncomfortable viewingthats get touch darker side\n"
          ]
        }
      ],
      "source": [
        "# lemmatize the reviews\n",
        "### INSERT YOUR CODE HERE ###\n",
        "from nltk.stem import WordNetLemmatizer\n",
        "nltk.download('wordnet')\n",
        "\n",
        "lemmatizer = WordNetLemmatizer()\n",
        "\n",
        "# imdb['review'] = imdb['review'].apply(lambda x: ' '.join([lemmatizer.lemmatize(word) for word in x.split()]))\n",
        "\n",
        "imdb['review'] = imdb['review'].apply(lambda x: ' '.join([lemmatizer.lemmatize(word) for word in x]))\n",
        "\n",
        "\n",
        "\n",
        "# print the first review\n",
        "print(imdb['review'][0])"
      ]
    },
    {
      "cell_type": "markdown",
      "metadata": {
        "id": "geEWrs8YyuS5"
      },
      "source": [
        "\n",
        "**Feature extraction (20 minutes):**\n",
        "\n",
        "Convert the preprocessed text data into numerical representations, such as Bag of Words (BoW) or Term Frequency-Inverse Document Frequency (TF-IDF).\n",
        "Normalise the features if necessary.\n"
      ]
    },
    {
      "cell_type": "code",
      "execution_count": null,
      "metadata": {
        "id": "fqgFf8OnnF8P"
      },
      "outputs": [],
      "source": [
        "from sklearn.model_selection import train_test_split\n",
        "from sklearn.feature_extraction.text import TfidfVectorizer\n",
        "\n",
        "# Normalise the features\n",
        "from sklearn.preprocessing import LabelEncoder\n",
        "le = LabelEncoder()\n",
        "imdb['sentiment'] = le.fit_transform(imdb['sentiment'])"
      ]
    },
    {
      "cell_type": "code",
      "execution_count": null,
      "metadata": {
        "colab": {
          "base_uri": "https://localhost:8080/"
        },
        "id": "EqyvIF_1p2Q0",
        "outputId": "0a6e9d5c-4c14-46a7-c85d-30c8a464f0f9"
      },
      "outputs": [
        {
          "name": "stdout",
          "output_type": "stream",
          "text": [
            "Training features shape: (40000, 5000)\n",
            "Testing features shape: (10000, 5000)\n"
          ]
        }
      ],
      "source": [
        "# Convert the preprocessed reviews into TF-IDF features\n",
        "\n",
        "# Split the dataset into training and testing sets\n",
        "X_train, X_test, y_train, y_test = train_test_split(imdb['review'], imdb['sentiment'], test_size=0.2, random_state=42)\n",
        "\n",
        "# Convert the preprocessed reviews to text\n",
        "X_train_text = [' '.join(review) for review in X_train]\n",
        "X_test_text = [' '.join(review) for review in X_test]\n",
        "\n",
        "# Create TF-IDF vectorizer\n",
        "vectorizer = TfidfVectorizer(ngram_range=(1, 2), max_features=5000)\n",
        "\n",
        "# Fit the vectorizer on the training set\n",
        "X_train_features = vectorizer.fit_transform(X_train)\n",
        "\n",
        "# Transform the testing set using the fitted vectorizer\n",
        "X_test_features = vectorizer.transform(X_test_text)\n",
        "\n",
        "# Convert the sparse matrix to a dense array\n",
        "X_train_features = X_train_features.toarray()\n",
        "X_test_features = X_test_features.toarray()\n",
        "\n",
        "# Print the shape of the feature matrices\n",
        "print(\"Training features shape:\", X_train_features.shape)\n",
        "print(\"Testing features shape:\", X_test_features.shape)\n"
      ]
    },
    {
      "cell_type": "markdown",
      "metadata": {
        "id": "_5hWItCTywFT"
      },
      "source": [
        "\n",
        "**ANN model creation (30 minutes):**\n"
      ]
    },
    {
      "cell_type": "code",
      "execution_count": null,
      "metadata": {
        "colab": {
          "base_uri": "https://localhost:8080/"
        },
        "id": "NRyhIaSjyxJt",
        "outputId": "61ce7b7b-bf90-4970-ff6a-d3ddf663d215"
      },
      "outputs": [
        {
          "name": "stdout",
          "output_type": "stream",
          "text": [
            "Epoch 1/10\n",
            "1000/1000 [==============================] - 10s 9ms/step - loss: 0.3236 - accuracy: 0.8626 - val_loss: 0.2807 - val_accuracy: 0.8834\n",
            "Epoch 2/10\n",
            "1000/1000 [==============================] - 7s 7ms/step - loss: 0.2307 - accuracy: 0.9068 - val_loss: 0.2896 - val_accuracy: 0.8773\n",
            "Epoch 3/10\n",
            "1000/1000 [==============================] - 8s 8ms/step - loss: 0.1886 - accuracy: 0.9254 - val_loss: 0.3041 - val_accuracy: 0.8789\n",
            "Epoch 4/10\n",
            "1000/1000 [==============================] - 9s 9ms/step - loss: 0.1122 - accuracy: 0.9615 - val_loss: 0.3882 - val_accuracy: 0.8706\n",
            "Epoch 5/10\n",
            "1000/1000 [==============================] - 7s 7ms/step - loss: 0.0418 - accuracy: 0.9873 - val_loss: 0.5682 - val_accuracy: 0.8674\n",
            "Epoch 6/10\n",
            "1000/1000 [==============================] - 8s 8ms/step - loss: 0.0124 - accuracy: 0.9956 - val_loss: 0.7150 - val_accuracy: 0.8668\n",
            "Epoch 7/10\n",
            "1000/1000 [==============================] - 8s 8ms/step - loss: 0.0042 - accuracy: 0.9994 - val_loss: 0.8327 - val_accuracy: 0.8664\n",
            "Epoch 8/10\n",
            "1000/1000 [==============================] - 8s 8ms/step - loss: 0.0015 - accuracy: 0.9998 - val_loss: 0.9705 - val_accuracy: 0.8648\n",
            "Epoch 9/10\n",
            "1000/1000 [==============================] - 8s 8ms/step - loss: 3.1672e-04 - accuracy: 1.0000 - val_loss: 1.0855 - val_accuracy: 0.8650\n",
            "Epoch 10/10\n",
            "1000/1000 [==============================] - 10s 10ms/step - loss: 1.0204e-04 - accuracy: 1.0000 - val_loss: 1.1955 - val_accuracy: 0.8645\n"
          ]
        },
        {
          "data": {
            "text/plain": [
              "<keras.callbacks.History at 0x7f0b717691e0>"
            ]
          },
          "execution_count": 16,
          "metadata": {},
          "output_type": "execute_result"
        }
      ],
      "source": [
        "# build the model\n",
        "import tensorflow as tf\n",
        "from tensorflow import keras\n",
        "from sklearn.metrics import accuracy_score\n",
        "\n",
        "model = keras.Sequential([\n",
        "    keras.layers.Dense(64, activation='relu', input_shape=(5000,)),\n",
        "    keras.layers.Dense(64, activation='relu'),\n",
        "    keras.layers.Dense(1, activation='sigmoid')\n",
        "])\n",
        "\n",
        "model.compile(optimizer='adam', loss='binary_crossentropy', metrics=['accuracy'])\n",
        "\n",
        "\n",
        "model.fit(X_train_features, y_train, epochs=10, batch_size=32, validation_split=0.2)\n"
      ]
    },
    {
      "cell_type": "code",
      "execution_count": null,
      "metadata": {
        "colab": {
          "base_uri": "https://localhost:8080/"
        },
        "id": "bFppyWylnF8R",
        "outputId": "4a65df43-2554-4f8c-d2a9-90a4b6ee8282"
      },
      "outputs": [
        {
          "name": "stdout",
          "output_type": "stream",
          "text": [
            "313/313 [==============================] - 1s 4ms/step\n",
            "Test Accuracy: 0.5039\n"
          ]
        }
      ],
      "source": [
        "# evaluate the model\n",
        "# y_pred = model.predict_classes(X_test_features)\n",
        "# accuracy = accuracy_score(y_test, y_pred)\n",
        "# print(\"Test Accuracy:\", accuracy)\n",
        "\n",
        "# evaluate the model\n",
        "y_pred_prob = model.predict(X_test_features)\n",
        "y_pred = (y_pred_prob > 0.5).astype(int)\n",
        "accuracy = accuracy_score(y_test, y_pred)\n",
        "print(\"Test Accuracy:\", accuracy)\n",
        "\n",
        "\n"
      ]
    },
    {
      "cell_type": "markdown",
      "metadata": {
        "id": "ZWyzHCXIyxh-"
      },
      "source": [
        "\n",
        "\n",
        "**Model training (30 minutes):**\n",
        "\n",
        "Train the ANN model using the training dataset.\n",
        "Discuss the choice of loss functions (e.g., binary cross-entropy) and optimization algorithms (e.g., stochastic gradient descent, Adam).\n",
        "Monitor the training progress by plotting the loss and accuracy over time.\n"
      ]
    },
    {
      "cell_type": "code",
      "execution_count": null,
      "metadata": {
        "colab": {
          "base_uri": "https://localhost:8080/",
          "height": 771
        },
        "id": "6bz0oLS7y0Q7",
        "outputId": "8b7268a4-403e-4e66-d79f-11969d618df7"
      },
      "outputs": [
        {
          "name": "stdout",
          "output_type": "stream",
          "text": [
            "Epoch 1/10\n",
            "1000/1000 [==============================] - 10s 9ms/step - loss: 0.3232 - accuracy: 0.8613 - val_loss: 0.2773 - val_accuracy: 0.8836\n",
            "Epoch 2/10\n",
            "1000/1000 [==============================] - 9s 9ms/step - loss: 0.2311 - accuracy: 0.9063 - val_loss: 0.2859 - val_accuracy: 0.8831\n",
            "Epoch 3/10\n",
            "1000/1000 [==============================] - 7s 7ms/step - loss: 0.1897 - accuracy: 0.9258 - val_loss: 0.2982 - val_accuracy: 0.8774\n",
            "Epoch 4/10\n",
            "1000/1000 [==============================] - 8s 8ms/step - loss: 0.1190 - accuracy: 0.9579 - val_loss: 0.3679 - val_accuracy: 0.8760\n",
            "Epoch 5/10\n",
            "1000/1000 [==============================] - 8s 8ms/step - loss: 0.0489 - accuracy: 0.9845 - val_loss: 0.5095 - val_accuracy: 0.8706\n",
            "Epoch 6/10\n",
            "1000/1000 [==============================] - 8s 8ms/step - loss: 0.0151 - accuracy: 0.9950 - val_loss: 0.6727 - val_accuracy: 0.8683\n",
            "Epoch 7/10\n",
            "1000/1000 [==============================] - 13s 13ms/step - loss: 0.0049 - accuracy: 0.9992 - val_loss: 0.8210 - val_accuracy: 0.8674\n",
            "Epoch 8/10\n",
            "1000/1000 [==============================] - 9s 9ms/step - loss: 0.0014 - accuracy: 0.9999 - val_loss: 0.9523 - val_accuracy: 0.8680\n",
            "Epoch 9/10\n",
            "1000/1000 [==============================] - 8s 8ms/step - loss: 3.8563e-04 - accuracy: 1.0000 - val_loss: 1.1102 - val_accuracy: 0.8694\n",
            "Epoch 10/10\n",
            "1000/1000 [==============================] - 8s 8ms/step - loss: 4.0225e-04 - accuracy: 0.9999 - val_loss: 1.1434 - val_accuracy: 0.8692\n"
          ]
        },
        {
          "data": {
            "image/png": "[encoded data removed]",
            "text/plain": [
              "<Figure size 1200x400 with 2 Axes>"
            ]
          },
          "metadata": {},
          "output_type": "display_data"
        }
      ],
      "source": [
        "import tensorflow as tf\n",
        "from tensorflow import keras\n",
        "import matplotlib.pyplot as plt\n",
        "\n",
        "\n",
        "model = keras.Sequential([\n",
        "    keras.layers.Dense(64, activation='relu', input_shape=(5000,)),\n",
        "    keras.layers.Dense(64, activation='relu'),\n",
        "    keras.layers.Dense(1, activation='sigmoid')\n",
        "])\n",
        "\n",
        "\n",
        "model.compile(optimizer='adam', loss='binary_crossentropy', metrics=['accuracy'])\n",
        "\n",
        "\n",
        "history = model.fit(X_train_features, y_train, epochs=10, batch_size=32, validation_split=0.2)\n",
        "\n",
        "\n",
        "# Get training history\n",
        "train_loss = history.history['loss']\n",
        "val_loss = history.history['val_loss']\n",
        "train_accuracy = history.history['accuracy']\n",
        "val_accuracy = history.history['val_accuracy']\n",
        "\n",
        "# Plot the training history\n",
        "plt.figure(figsize=(12, 4))\n",
        "plt.subplot(1, 2, 1)\n",
        "plt.plot(train_loss, label='Training Loss')\n",
        "plt.plot(val_loss, label='Validation Loss')\n",
        "plt.xlabel('Epoch')\n",
        "plt.ylabel('Loss')\n",
        "plt.legend()\n",
        "\n",
        "plt.subplot(1, 2, 2)\n",
        "plt.plot(train_accuracy, label='Training Accuracy')\n",
        "plt.plot(val_accuracy, label='Validation Accuracy')\n",
        "plt.xlabel('Epoch')\n",
        "plt.ylabel('Accuracy')\n",
        "plt.legend()\n",
        "\n",
        "plt.tight_layout()\n",
        "plt.show()\n"
      ]
    },
    {
      "cell_type": "markdown",
      "metadata": {
        "id": "EGUgdxS9yzL4"
      },
      "source": [
        "\n",
        "\n",
        "**Model evaluation (10 minutes):**\n",
        "\n",
        "Evaluate the trained model on the testing dataset.\n",
        "Calculate performance metrics such as accuracy, precision, recall, and F1-score.\n",
        "Discuss potential improvements or limitations of the model.\n"
      ]
    },
    {
      "cell_type": "code",
      "execution_count": null,
      "metadata": {
        "colab": {
          "base_uri": "https://localhost:8080/"
        },
        "id": "B9oj9kiUyy1c",
        "outputId": "ca957027-89c7-400b-f71e-8ade2fe04b5f"
      },
      "outputs": [
        {
          "name": "stdout",
          "output_type": "stream",
          "text": [
            "313/313 [==============================] - 2s 5ms/step\n",
            "Accuracy: 0.4961\n",
            "Precision: 1.0\n",
            "Recall: 0.0\n",
            "F1-Score: 0.0\n"
          ]
        }
      ],
      "source": [
        "import tensorflow as tf\n",
        "from tensorflow import keras\n",
        "from sklearn.metrics import accuracy_score, precision_score, recall_score, f1_score\n",
        "\n",
        "y_pred_prob = model.predict(X_test_features)\n",
        "y_pred = (y_pred_prob > 0.5).astype(int)\n",
        "\n",
        "\n",
        "# accuracy = accuracy_score(y_test, y_pred)\n",
        "# precision = precision_score(y_test, y_pred)\n",
        "# recall = recall_score(y_test, y_pred)\n",
        "# f1 = f1_score(y_test, y_pred)\n",
        "\n",
        "precision = precision_score(y_test, y_pred, zero_division=1)\n",
        "recall = recall_score(y_test, y_pred, zero_division=1)\n",
        "f1 = f1_score(y_test, y_pred, zero_division=1)\n",
        "\n",
        "\n",
        "\n",
        "print(\"Accuracy:\", accuracy)\n",
        "print(\"Precision:\", precision)\n",
        "print(\"Recall:\", recall)\n",
        "print(\"F1-Score:\", f1)\n",
        "\n",
        "\n",
        "\n"
      ]
    },
    {
      "cell_type": "markdown",
      "metadata": {
        "id": "9AYXN7Jsy0jr"
      },
      "source": [
        "\n",
        "**Wrap-up and reflection (10 minutes):**\n",
        "\n",
        "Summarise the project and its results.\n",
        "Discuss the practical applications of sentiment analysis and other possible use cases for ANNs with text data."
      ]
    },
    {
      "cell_type": "code",
      "execution_count": null,
      "metadata": {
        "id": "PLmojFRFy07R"
      },
      "outputs": [],
      "source": []
    }
  ],
  "metadata": {
    "colab": {
      "provenance": []
    },
    "kernelspec": {
      "display_name": "Python 3",
      "name": "python3"
    },
    "language_info": {
      "codemirror_mode": {
        "name": "ipython",
        "version": 3
      },
      "file_extension": ".py",
      "mimetype": "text/x-python",
      "name": "python",
      "nbconvert_exporter": "python",
      "pygments_lexer": "ipython3",
      "version": "3.8.0"
    }
  },
  "nbformat": 4,
  "nbformat_minor": 0
}
