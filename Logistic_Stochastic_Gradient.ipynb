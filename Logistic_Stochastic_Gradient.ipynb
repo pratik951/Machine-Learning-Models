{
  "cells": [
    {
      "cell_type": "code",
      "execution_count": null,
      "metadata": {
        "colab": {
          "base_uri": "https://localhost:8080/"
        },
        "id": "YNrkDQWfNmZy",
        "outputId": "54f3c536-78c9-43ae-9d68-50cb61a6f041"
      },
      "outputs": [],
      "source": [
        "\n",
        "!gdown  1v_Lb24kNunFeg1HxvdSiq6RpPYaVq4yR\n",
        "\n",
        "import pandas as pd\n",
        "import numpy as np\n",
        "import matplotlib.pyplot as plt\n",
        "import seaborn as sns\n",
        "from plotly.subplots import make_subplots\n",
        "import warnings\n",
        "import plotly.figure_factory as ff\n",
        "import warnings\n",
        "import math\n",
        "from sklearn.exceptions import ConvergenceWarning\n",
        "\n",
        "from sklearn.preprocessing import LabelEncoder\n",
        "from sklearn.linear_model import LogisticRegression\n",
        "from sklearn.linear_model import LinearRegression\n",
        "from sklearn.linear_model import SGDClassifier\n",
        "from sklearn.model_selection import train_test_split\n",
        "from sklearn.metrics import mean_squared_error\n",
        "from sklearn.metrics import accuracy_score\n",
        "from sklearn import metrics\n",
        "from sklearn.metrics import recall_score, confusion_matrix, precision_score, f1_score, accuracy_score, classification_report\n",
        "from sklearn.exceptions import ConvergenceWarning\n",
        "\n"
      ]
    },
    {
      "cell_type": "code",
      "execution_count": null,
      "metadata": {
        "colab": {
          "base_uri": "https://localhost:8080/",
          "height": 1000
        },
        "id": "rGpBPC9AMMI6",
        "outputId": "5d54d0f5-cb6e-41a4-8150-4e7c262e1c9f"
      },
      "outputs": [],
      "source": [
        "\n",
        "\n",
        "\n",
        "#loading the dataset\n",
        "df = pd.read_csv(\"/content/WA_Fn-UseC_-Telco-Customer-Churn.csv\")\n",
        "\n",
        "df\n",
        "\n",
        "#total rows and cols\n",
        "df.shape\n",
        "\n",
        "#information about the dataset\n",
        "df.info()\n",
        "\n",
        "plt.figure(figsize=(25, 10))\n",
        "\n",
        "corr = df.apply(lambda x: pd.factorize(x)[0]).corr()\n",
        "\n",
        "mask = np.triu(np.ones_like(corr, dtype=bool))\n",
        "plt.figure(figsize=(20,20))\n",
        "ax = sns.heatmap(corr,square=True, annot=True,)\n",
        "# ax = sns.heatmap(corr, mask=mask, xticklabels=corr.columns, yticklabels=corr.columns, annot=True, linewidths=.2, cmap='coolwarm', vmin=-1, vmax=1,square=True)\n",
        "\n",
        "\n",
        "\n",
        "corrs = df.corr()\n",
        "\n",
        "#Display bar plot for Internet service \n",
        "from seaborn import barplot\n",
        "from matplotlib import pyplot as plt   \n",
        "import pandas as pd\n",
        "\n",
        "dataset = pd.read_csv(\"/content/WA_Fn-UseC_-Telco-Customer-Churn.csv\")  # read csv file into variable dataset\n",
        "dataset['Churn'] = dataset['Churn'].map({'Yes':1, 'No':0})\n",
        "mean = round(dataset.Churn.mean(),2) # Finding the global mean of churn data and rounding it to 2 decimal places\n",
        "df_group = dataset.groupby(by='InternetService').Churn.agg(['mean']).reset_index() #group by the gender (Male/Female) and get mean\n",
        "graph=barplot(x= 'InternetService', y = 'mean', data=df_group, palette='Greens') # plot the gender and mean using barplot\n",
        "graph.axhline(mean, linewidth=3, color='b')       # show the mean of churn as a line in color blue\n",
        "plt.text(0, mean - 0.03, \"global_mean\", color='black', weight='semibold') \n",
        "plt.show()\n",
        "\n",
        "#Display of data for Payment\n",
        "import plotly.graph_objects as pt\n",
        "sticker = df['PaymentMethod'].unique()\n",
        "valcount = df['PaymentMethod'].value_counts()\n",
        "\n",
        "Pie_chart = pt.Figure(data=[pt.Pie(labels=sticker, values=valcount, hole=.3)])\n",
        "#fig = px.histogram(df, x=\"Churn\", color=\"Contract\", barmode=\"group\", title=\"<b>Customer contract distribution<b>\")\n",
        "Pie_chart.update_layout(title_text=\"<b> Section Of Payment Method </b>\")\n",
        "Pie_chart.show()\n",
        "\n",
        "def object_to_int(dataframe_series):\n",
        "    if dataframe_series.dtype=='object':\n",
        "        dataframe_series = LabelEncoder().fit_transform(dataframe_series)\n",
        "    return dataframe_series\n",
        "\n",
        "df = df.apply(lambda x: object_to_int(x))\n",
        "df.head()\n",
        "\n",
        "plt.figure(figsize=(14,7))\n",
        "df.corr()['Churn'].sort_values(ascending = False)\n",
        "\n",
        "\n",
        "\n",
        "X = df.drop(columns = ['Churn'])\n",
        "y = df['Churn'].values\n",
        "\n",
        "X_train, X_test, y_train, y_test = train_test_split(X,y,test_size = 0.30, random_state = 40, stratify=y)\n",
        "\n",
        "feature_correlation = set()\n",
        "correlation_matrix = X_train.corr()\n",
        "for i in range(len(correlation_matrix.columns)):\n",
        "    for j in range(i):\n",
        "        if abs(correlation_matrix.iloc[i, j]) > 0.3:\n",
        "            featurename = correlation_matrix.columns[i]\n",
        "            feature_correlation.add(featurename)\n",
        "\n",
        "print(\"irrelevent variables count: \",len(set(feature_correlation)))\n",
        "print(\"irrelevent variables list: \",feature_correlation)\n",
        "\n",
        "\"\"\"print(classification_report(y_test, predicted_y))\"\"\"\n",
        "\n",
        "\n",
        "\n",
        "\n"
      ]
    },
    {
      "cell_type": "code",
      "execution_count": null,
      "metadata": {
        "colab": {
          "base_uri": "https://localhost:8080/"
        },
        "id": "8LKnf-W2N0qK",
        "outputId": "7b7f12f4-8602-4a6f-e0e8-d10000d24a69"
      },
      "outputs": [],
      "source": [
        "\n",
        "X_train, X_test, y_train, y_test = train_test_split(X,y,test_size = 0.2, random_state = 1, stratify=y)\n",
        "lr_model = LogisticRegression()\n",
        "with warnings.catch_warnings():\n",
        "    warnings.simplefilter(\"ignore\", category=ConvergenceWarning)\n",
        "    lr_model.fit(X_train,y_train)\n",
        "accuracy_lr = lr_model.score(X_test,y_test)\n",
        "print(\"Logistic Regression accuracy is :\",accuracy_lr)"
      ]
    },
    {
      "cell_type": "code",
      "execution_count": null,
      "metadata": {
        "colab": {
          "base_uri": "https://localhost:8080/"
        },
        "id": "vCoUGlWKN0bi",
        "outputId": "a8d1fcfd-066d-4f2c-edf4-d30d5fb2e118"
      },
      "outputs": [],
      "source": [
        "X_train, X_test, y_train, y_test = train_test_split(X,y,test_size = 0.8, random_state = 1, stratify=y)\n",
        "lr_model = LinearRegression()\n",
        "lr_model.fit(X_train,y_train)\n",
        "y_pred=lr_model.predict(X_test)\n",
        "rmse=math.sqrt(mean_squared_error(y_test,y_pred))\n",
        "print(\"Linear Regression accuracy is :\",rmse)"
      ]
    },
    {
      "cell_type": "code",
      "execution_count": null,
      "metadata": {
        "colab": {
          "base_uri": "https://localhost:8080/"
        },
        "id": "qfmtMg1hNQ7M",
        "outputId": "71ec8097-42c8-48f3-9a28-f4b0d1c73aba"
      },
      "outputs": [],
      "source": [
        "sdg_reg=SGDClassifier(loss='log',max_iter=1000,tol=1e-3,random_state=200)\n",
        "sdg_reg.fit(X_train,y_train)\n",
        "y_pred=sdg_reg.predict(X_test)\n",
        "accuracy_lr = accuracy_score(y_test,y_pred)\n",
        "print(\"LogiSDGstic Regression accuracy is :\",accuracy_lr)"
      ]
    }
  ],
  "metadata": {
    "colab": {
      "provenance": []
    },
    "kernelspec": {
      "display_name": "Python 3",
      "name": "python3"
    },
    "language_info": {
      "name": "python",
      "version": "3.9.7"
    }
  },
  "nbformat": 4,
  "nbformat_minor": 0
}
